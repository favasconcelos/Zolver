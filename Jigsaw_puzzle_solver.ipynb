{
  "nbformat": 4,
  "nbformat_minor": 0,
  "metadata": {
    "colab": {
      "provenance": [],
      "collapsed_sections": [
        "Ozimge00q75z",
        "X5zqOuMCq_wY",
        "01wNLO5w1QW3"
      ],
      "machine_shape": "hm",
      "include_colab_link": true
    },
    "kernelspec": {
      "name": "python3",
      "display_name": "Python 3"
    },
    "language_info": {
      "name": "python"
    },
    "accelerator": "GPU",
    "gpuClass": "standard"
  },
  "cells": [
    {
      "cell_type": "markdown",
      "metadata": {
        "id": "view-in-github",
        "colab_type": "text"
      },
      "source": [
        "<a href=\"https://colab.research.google.com/github/favasconcelos/Zolver/blob/master/Jigsaw_puzzle_solver.ipynb\" target=\"_parent\"><img src=\"https://colab.research.google.com/assets/colab-badge.svg\" alt=\"Open In Colab\"/></a>"
      ]
    },
    {
      "cell_type": "code",
      "metadata": {
        "id": "AyA9YwUuhv-t"
      },
      "source": [
        "from scipy.ndimage import filters\n",
        "from PIL import Image, ImageChops\n",
        "import matplotlib.pyplot as plt\n",
        "from fastdtw import fastdtw\n",
        "import numpy as np\n",
        "import cv2"
      ],
      "execution_count": null,
      "outputs": []
    },
    {
      "cell_type": "markdown",
      "metadata": {
        "id": "Ozimge00q75z"
      },
      "source": [
        "# Image processing"
      ]
    },
    {
      "cell_type": "code",
      "metadata": {
        "id": "bqt6HB43TXdi",
        "cellView": "form"
      },
      "source": [
        "# @title Functions\n",
        "\n",
        "def showpic(image, width=10):\n",
        "  plt.figure(figsize=(width, width/1000*727))\n",
        "  plt.imshow(image, cmap='gray')\n",
        "  plt.axis('off')\n",
        "  plt.show()\n",
        "\n",
        "def showlist(tiles, width=10):\n",
        "  n_rows = np.ceil(len(tiles)/5).astype('int')\n",
        "  plt.subplots(n_rows, 5, figsize=(width, width))\n",
        "  for i in range(len(tiles)):\n",
        "    plt.subplot(n_rows, 5, i+1)\n",
        "    plt.axis('off')\n",
        "    plt.title(str(i))\n",
        "    plt.imshow(tiles[i])\n",
        "  plt.show()"
      ],
      "execution_count": null,
      "outputs": []
    },
    {
      "cell_type": "code",
      "metadata": {
        "id": "FTnW5nGhiF97"
      },
      "source": [
        "# Load scanned tiles\n",
        "puzzle = np.array(Image.open('puzzle.png').convert('RGBA'))\n",
        "print(puzzle.shape)\n",
        "showpic(puzzle)"
      ],
      "execution_count": null,
      "outputs": []
    },
    {
      "cell_type": "code",
      "metadata": {
        "id": "13EQP0p8W1iU"
      },
      "source": [
        "# Adaptive thresholding\n",
        "thresh = cv2.cvtColor(puzzle, cv2.COLOR_RGBA2GRAY)\n",
        "thresh = cv2.adaptiveThreshold(thresh, 255, 0, 1, 3, 3)\n",
        "thresh = cv2.GaussianBlur(thresh, (3,3), 1)\n",
        "showpic(thresh)"
      ],
      "execution_count": null,
      "outputs": []
    },
    {
      "cell_type": "code",
      "metadata": {
        "id": "LB5w9V0zFI6w"
      },
      "source": [
        "# Find and fill contours\n",
        "contours, _ = cv2.findContours(thresh, 0, 1)\n",
        "sorting = sorted([[cnt.shape[0], i] for i, cnt in enumerate(contours)], reverse=True)[:15]\n",
        "biggest = [contours[s[1]] for s in sorting] \n",
        "fill = cv2.drawContours(np.zeros(puzzle.shape[:2]), biggest, -1, 255, thickness=cv2.FILLED)\n",
        "showpic(fill)"
      ],
      "execution_count": null,
      "outputs": []
    },
    {
      "cell_type": "code",
      "metadata": {
        "id": "_R1vfPayxnT-"
      },
      "source": [
        "# Smooth contours and trim shadows\n",
        "smooth = filters.median_filter(fill.astype('uint8'), size=10)\n",
        "trim_contours, _ = cv2.findContours(smooth, 0, 1)\n",
        "cv2.drawContours(smooth, trim_contours, -1, color=0, thickness=1)\n",
        "showpic(smooth)"
      ],
      "execution_count": null,
      "outputs": []
    },
    {
      "cell_type": "code",
      "metadata": {
        "id": "tD8qyaMdMYzn"
      },
      "source": [
        "# Split into tiles\n",
        "contours, _ = cv2.findContours(smooth, 0, 1)\n",
        "tiles, tile_centers = [], []\n",
        "for i in range(len(contours)):\n",
        "  x, y, w, h = cv2.boundingRect(contours[i])\n",
        "  shape, tile = np.zeros(puzzle.shape[:2]), np.zeros((300,300,4), 'uint8')\n",
        "  cv2.drawContours(shape, [contours[i]], -1, color=1, thickness=-1)\n",
        "  shape = (puzzle * shape[:,:,None])[y:y+h,x:x+w,:]\n",
        "  tile[(300-h)//2:(300-h)//2+h,(300-w)//2:(300-w)//2+w] = shape\n",
        "  tiles.append(tile)\n",
        "  tile_centers.append((h//2+y, w//2+x))\n",
        "\n",
        "showlist(tiles)"
      ],
      "execution_count": null,
      "outputs": []
    },
    {
      "cell_type": "markdown",
      "metadata": {
        "id": "X5zqOuMCq_wY"
      },
      "source": [
        "# Matching"
      ]
    },
    {
      "cell_type": "code",
      "metadata": {
        "id": "CrrH3p3MRHSq"
      },
      "source": [
        "# Rescale tiles to assembly format\n",
        "canvas_tiles = []\n",
        "for i in range(len(tiles)):\n",
        "  canvas_tile = np.zeros((1400,1400,4), 'uint8')\n",
        "  canvas_tile[550:850, 550:850] = tiles[i].copy()\n",
        "  canvas_tiles.append(canvas_tile)"
      ],
      "execution_count": null,
      "outputs": []
    },
    {
      "cell_type": "code",
      "metadata": {
        "cellView": "form",
        "id": "ReDdHkl04Swo"
      },
      "source": [
        "# @title Functions\n",
        "\n",
        "def getColors(image, subcontour):\n",
        "  subcontour = np.flip(subcontour)\n",
        "\n",
        "  colors = []\n",
        "  for n in range(len(subcontour)-3):\n",
        "    (y,x) = subcontour[n]\n",
        "    (y1,x1) = subcontour[n+3]\n",
        "    h, w = y1 - y, x1 - x\n",
        "    colors.append(image[y-w, x+h, :3] + image[y+w, x-h, :3])\n",
        "\n",
        "  colors = np.array(colors, 'uint8').reshape(-1,1,3)\n",
        "  colors = cv2.cvtColor(colors, cv2.COLOR_RGB2HSV)\n",
        "  \n",
        "  return colors.reshape(-1,3)\n",
        "\n",
        "def putOnAnvil(arr_img, point, angle, center=(700,700)):\n",
        "  img = Image.fromarray(arr_img)\n",
        "  img = ImageChops.offset(img, center[1] - point[1], center[0] - point[0])\n",
        "  img = img.rotate(angle)\n",
        "\n",
        "  return np.array(img)\n",
        "\n",
        "def rotatePoint(point, angle, center=(700,700)):\n",
        "  dy, dx = center[0]-point[0], point[1]-center[1]\n",
        "  distance = np.sqrt(np.square(point[0]-center[0]) + np.square(point[1]-center[1]))\n",
        "  if dx==0: dx = 1\n",
        "  base = 90*(1-np.sign(dx)) + np.degrees(np.arctan(dy/dx))\n",
        "  \n",
        "  y = round(center[0] - distance * np.sin(np.pi * (base + angle)/180))\n",
        "  x = round(center[1] + distance * np.cos(np.pi * (base + angle)/180))\n",
        "\n",
        "  return (y,x)\n",
        "\n",
        "def reScale(point, position, center=(150,150)):\n",
        "  cy, cx, angle = position\n",
        "  if angle!=0: (y, x) = rotatePoint(point, angle, center)\n",
        "  else: (y, x) = point\n",
        "\n",
        "  return (y + cy - center[0], x + cx - center[1])"
      ],
      "execution_count": null,
      "outputs": []
    },
    {
      "cell_type": "code",
      "metadata": {
        "id": "4vvV8Lc1nt68"
      },
      "source": [
        "# @title Matching algorithm\n",
        "def matchTiles(A, B):\n",
        "\n",
        "  LENGTH = 160\n",
        "  PRECISION = 8\n",
        "  STEP_A = 20\n",
        "  STEP_B = 7\n",
        "  MAX_FORM = 0.015\n",
        "  MAX_COLOR = 8000\n",
        "  MAX_PIXEL = 0.03\n",
        "  MAX_FIT = 0.77\n",
        "\n",
        "  CENTER = round(LENGTH/2)\n",
        "\n",
        "  tileA, tileB = tiles[A], tiles[B]\n",
        "  cntA, _ = cv2.findContours(tileA[:,:,3], 0, 1)\n",
        "  cntB, _ = cv2.findContours(tileB[:,:,3], 0, 1)\n",
        "  cntA, cntB = cntA[0].reshape(-1,2), cntB[0].reshape(-1,2)\n",
        "  sumLen = cntA.shape[0] + cntB.shape[0]\n",
        "\n",
        "  # Contour matching\n",
        "  form_matches = []\n",
        "  for i in range(0, cntA.shape[0], STEP_A):\n",
        "\n",
        "    # subcontour A and its type\n",
        "    subcA = np.roll(cntA, -i, 0)[:LENGTH]\n",
        "    pointA = tuple(np.flip(subcA[CENTER]))\n",
        "    cA, (hA,wA), aA = cv2.minAreaRect(subcA)\n",
        "    typepointA = np.int0(np.flip(subcA[0] + subcA[-1] - cA))\n",
        "    typeA = tileA[:,:,3][tuple(typepointA)]\n",
        "    a = cv2.drawContours(np.zeros((300,300),'uint8'), subcA.reshape(-1,1,2), -1, 255, 1)\n",
        "\n",
        "    # loop through match subcontours\n",
        "    for j in range(0, cntB.shape[0], STEP_B):\n",
        "      \n",
        "      # subcontour B and its type\n",
        "      subcB = np.roll(cntB, -j, 0)[:LENGTH]\n",
        "      pointB = tuple(np.flip(subcB[CENTER]))\n",
        "      cB, (hB,wB), aB = cv2.minAreaRect(subcB)\n",
        "      typepointB = np.int0(np.flip(subcB[0] + subcB[-1] - cB))\n",
        "      typeB = tileB[:,:,3][tuple(typepointB)]\n",
        "\n",
        "      # record good form matches\n",
        "      if typeB != typeA:\n",
        "        if ((abs(hA-hB) < PRECISION) & (abs(wA-wB) < PRECISION)) or ((abs(hA-wB) < PRECISION) & (abs(wA-hB) < PRECISION)):\n",
        "          b = cv2.drawContours(np.zeros((300,300),'uint8'), subcB.reshape(-1,1,2), -1, 255, 1)\n",
        "          fmatch = cv2.matchShapes(a,b,1,0)\n",
        "          if fmatch < MAX_FORM: \n",
        "            colinear = True if np.sign(hA-wA) == np.sign(hB-wB) else False\n",
        "            if colinear:\n",
        "              codirect = True if (np.sign(typepointA - np.flip(cA)) ==  np.sign(typepointB - np.flip(cB))).all() else False\n",
        "            else:\n",
        "              c = np.concatenate([np.sign(typepointA - np.flip(cA)), np.sign(typepointB - np.flip(cB))])\n",
        "              codirect = True if (abs(np.sum(c[:3])) + abs(np.sum(c[-3:]))) == 4 else False\n",
        "            if not colinear: aB = aB + 90\n",
        "            if not codirect: aB = aB + 180  \n",
        "            form_matches.append([(i, j), pointA, pointB, round(aB-aA,4), round(fmatch,4)])\n",
        " \n",
        "  # Color matching\n",
        "  color_matches = []\n",
        "  for n in range(len(form_matches)):\n",
        "    (i, j), pointA, pointB, angle, fmatch = form_matches[n]\n",
        "    subcA = np.roll(cntA, -i, 0)[:LENGTH] \n",
        "    subcB = np.roll(cntB, -j, 0)[:LENGTH]\n",
        "    colorsA = getColors(tileA, subcA)\n",
        "    colorsB = getColors(tileB, subcB)\n",
        "    cmatch = fastdtw(colorsA, np.flip(colorsB, axis=0))[0]\n",
        "    if cmatch < MAX_COLOR: \n",
        "      color_matches.append([(i, j), pointA, pointB, angle, fmatch, round(cmatch)])\n",
        "\n",
        "  # Pre-fitting\n",
        "  fit_matches = []\n",
        "  for n in range(len(color_matches)):\n",
        "    (i, j), pointA, pointB, angle, fmatch, cmatch = color_matches[n]\n",
        "    a = putOnAnvil(canvas_tiles[A][:,:,3], reScale(pointA, [700,700,0]), 0)\n",
        "    b = putOnAnvil(canvas_tiles[B][:,:,3], reScale(pointB, [700,700,0]), angle)\n",
        "    loss = 1 - (np.sum((a+b)>0) / (np.sum(a>0) + np.sum(b>0)))\n",
        "    contours, _ = cv2.findContours((a+b), 0, 1)\n",
        "    fit = contours[0].shape[0] / sumLen\n",
        "    if (loss < MAX_PIXEL) & (fit < MAX_FIT): \n",
        "      fit_matches.append([(A, B), (i, j), pointA, pointB, angle, fmatch, cmatch, round(loss+fit,4), 0])\n",
        "\n",
        "  fit_matches.sort(key=lambda n: n[-1])\n",
        "\n",
        "  return fit_matches"
      ],
      "execution_count": null,
      "outputs": []
    },
    {
      "cell_type": "code",
      "metadata": {
        "id": "0nBf96RAUQz_"
      },
      "source": [
        "# Calculate all possible matches\n",
        "matches = []\n",
        "for a in range(len(tiles)-1):\n",
        "  for b in range(a+1,len(tiles)):\n",
        "    matches.extend(matchTiles(a,b))\n",
        "\n",
        "# Flip and sort\n",
        "for n in range(len(matches)):\n",
        "  pair, ij, pointa, pointb, angle, fmatch, cmatch, fit, lock = matches[n]\n",
        "  matches.extend([[(pair[1],pair[0]), ij, pointb, pointa, -angle, fmatch, cmatch, fit, lock]])\n",
        "matches.sort(key=lambda m: (m[0], m[-2]))"
      ],
      "execution_count": null,
      "outputs": []
    },
    {
      "cell_type": "markdown",
      "metadata": {
        "id": "01wNLO5w1QW3"
      },
      "source": [
        "# Assembly"
      ]
    },
    {
      "cell_type": "code",
      "metadata": {
        "cellView": "form",
        "id": "yC6fdyESG_td"
      },
      "source": [
        "# @title Functions\n",
        "\n",
        "def updateCanvas(canvas, positions, pointA, pointB, angleA, angleB):\n",
        "  \n",
        "  # update records for tiles on canvas\n",
        "  for N, pos in enumerate(positions):\n",
        "    if N in canvas:\n",
        "      new_center = (pos[0] + 700 - pointA[0], pos[1] + 700 - pointA[1])\n",
        "      new_center = rotatePoint(new_center, angleA)\n",
        "      new_angle = pos[2] + angleA\n",
        "      positions[N] = [*new_center, new_angle]\n",
        "\n",
        "  # append record for the added tile\n",
        "  canvas.append(B)\n",
        "  center = rotatePoint((700 + 700 - pointB[0], 700 + 700 - pointB[1]), angleB)\n",
        "  positions[B] = [*center, angleB]\n",
        "\n",
        "  return canvas, positions"
      ],
      "execution_count": null,
      "outputs": []
    },
    {
      "cell_type": "code",
      "metadata": {
        "id": "z9ulERUrdjtG"
      },
      "source": [
        "# Assembly\n",
        "assembly = canvas_tiles[0].copy()\n",
        "positions = [[0,0,0]]*len(tiles)\n",
        "positions[0] = [700,700,0]\n",
        "canvas = [0]\n",
        "attempts = 0\n",
        "\n",
        "while (len(canvas) < 15) & (attempts < 10):\n",
        "  for n in range(len(matches)):\n",
        "        \n",
        "    # take next matching pair\n",
        "    (A, B), ij, pointA, pointB, angleB, _, _, _, lock = matches[n]\n",
        "    pointA = reScale(pointA, positions[A])\n",
        "    pointB = reScale(pointB, (700,700,0))\n",
        "\n",
        "    if A in canvas:\n",
        "      angleA = - positions[A][2]\n",
        "      pre_assembly = putOnAnvil(assembly.copy(), pointA, angleA)\n",
        "      \n",
        "      if B not in canvas:\n",
        "        newtile = putOnAnvil(canvas_tiles[B], pointB, angleB)\n",
        "\n",
        "        # fix or pass depending on loss of pixels\n",
        "        loss = (np.sum(pre_assembly[:,:,3]>0) + np.sum(newtile[:,:,3]>0) - \n",
        "                np.sum((pre_assembly+newtile)[:,:,3]>0)\n",
        "                ) / np.sum(newtile[:,:,3]>0)\n",
        "        if loss < 0.1: \n",
        "          matches[n][-1] = 1\n",
        "          assembly = pre_assembly.copy() + newtile.copy()\n",
        "          canvas, positions = updateCanvas(canvas, positions, \n",
        "                                           pointA, pointB, angleA, angleB)\n",
        "  \n",
        "  attempts += 1\n",
        "\n",
        "showpic(assembly)"
      ],
      "execution_count": null,
      "outputs": []
    },
    {
      "cell_type": "code",
      "metadata": {
        "id": "gerpfGUz-PC7"
      },
      "source": [
        "# Mark matches in original image\n",
        "count = 0\n",
        "markup = puzzle.copy()\n",
        "colors = [[r,g,b,255] for r in [255,100,0] for g in [255,100,0] for b in [255,100,0]]\n",
        "for n in range(len(matches)):\n",
        "  (A, B), _, pointA, pointB, _, _, _, _, lock = matches[n]\n",
        "  if lock == 1:\n",
        "    count += 1\n",
        "    centerA = (tile_centers[A][1]-(150-pointA[1]), tile_centers[A][0]-(150-pointA[0]))\n",
        "    centerB = (tile_centers[B][1]-(150-pointB[1]), tile_centers[B][0]-(150-pointB[0]))\n",
        "    cv2.circle(markup, centerA, 15, colors[count], -1)\n",
        "    cv2.circle(markup, centerB, 15, colors[count], -1)\n",
        "    cv2.putText(markup, str(count), (centerA[0]-7,centerA[1]+5), 1, 1, [255,255,255,255], 2)\n",
        "    cv2.putText(markup, str(count), (centerB[0]-7,centerB[1]+5), 1, 1, [255,255,255,255], 2)\n",
        "\n",
        "showpic(markup)"
      ],
      "execution_count": null,
      "outputs": []
    }
  ]
}